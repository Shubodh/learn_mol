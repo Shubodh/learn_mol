{
  "nbformat": 4,
  "nbformat_minor": 0,
  "metadata": {
    "colab": {
      "provenance": [],
      "collapsed_sections": [],
      "include_colab_link": true
    },
    "kernelspec": {
      "name": "python3",
      "display_name": "Python 3"
    },
    "language_info": {
      "name": "python"
    },
    "accelerator": "GPU",
    "widgets": {
      "application/vnd.jupyter.widget-state+json": {
        "8afdef885a9a4867b8555134de2024ff": {
          "model_module": "@jupyter-widgets/controls",
          "model_name": "VBoxModel",
          "model_module_version": "1.5.0",
          "state": {
            "_dom_classes": [],
            "_model_module": "@jupyter-widgets/controls",
            "_model_module_version": "1.5.0",
            "_model_name": "VBoxModel",
            "_view_count": null,
            "_view_module": "@jupyter-widgets/controls",
            "_view_module_version": "1.5.0",
            "_view_name": "VBoxView",
            "box_style": "",
            "children": [
              "IPY_MODEL_f4ae5f645b0440e0a6157fee2991d2ed",
              "IPY_MODEL_a865e8f17d6446008549f21c32b7927e"
            ],
            "layout": "IPY_MODEL_3cdaa73f7b39480d999ee373d376ae0a"
          }
        },
        "f4ae5f645b0440e0a6157fee2991d2ed": {
          "model_module": "@jupyter-widgets/controls",
          "model_name": "LabelModel",
          "model_module_version": "1.5.0",
          "state": {
            "_dom_classes": [],
            "_model_module": "@jupyter-widgets/controls",
            "_model_module_version": "1.5.0",
            "_model_name": "LabelModel",
            "_view_count": null,
            "_view_module": "@jupyter-widgets/controls",
            "_view_module_version": "1.5.0",
            "_view_name": "LabelView",
            "description": "",
            "description_tooltip": null,
            "layout": "IPY_MODEL_c4d3bafaa4434b1697ed31cbfcc9bd68",
            "placeholder": "​",
            "style": "IPY_MODEL_b2d930ebe6b44984ab934350b8a1776a",
            "value": "0.000 MB of 0.009 MB uploaded (0.000 MB deduped)\r"
          }
        },
        "a865e8f17d6446008549f21c32b7927e": {
          "model_module": "@jupyter-widgets/controls",
          "model_name": "FloatProgressModel",
          "model_module_version": "1.5.0",
          "state": {
            "_dom_classes": [],
            "_model_module": "@jupyter-widgets/controls",
            "_model_module_version": "1.5.0",
            "_model_name": "FloatProgressModel",
            "_view_count": null,
            "_view_module": "@jupyter-widgets/controls",
            "_view_module_version": "1.5.0",
            "_view_name": "ProgressView",
            "bar_style": "",
            "description": "",
            "description_tooltip": null,
            "layout": "IPY_MODEL_93e62a1fbda5437cb8e32aa9396ba37d",
            "max": 1,
            "min": 0,
            "orientation": "horizontal",
            "style": "IPY_MODEL_9edb5414a4844914a1f393e1aa5ff5a2",
            "value": 0.044827217288969726
          }
        },
        "3cdaa73f7b39480d999ee373d376ae0a": {
          "model_module": "@jupyter-widgets/base",
          "model_name": "LayoutModel",
          "model_module_version": "1.2.0",
          "state": {
            "_model_module": "@jupyter-widgets/base",
            "_model_module_version": "1.2.0",
            "_model_name": "LayoutModel",
            "_view_count": null,
            "_view_module": "@jupyter-widgets/base",
            "_view_module_version": "1.2.0",
            "_view_name": "LayoutView",
            "align_content": null,
            "align_items": null,
            "align_self": null,
            "border": null,
            "bottom": null,
            "display": null,
            "flex": null,
            "flex_flow": null,
            "grid_area": null,
            "grid_auto_columns": null,
            "grid_auto_flow": null,
            "grid_auto_rows": null,
            "grid_column": null,
            "grid_gap": null,
            "grid_row": null,
            "grid_template_areas": null,
            "grid_template_columns": null,
            "grid_template_rows": null,
            "height": null,
            "justify_content": null,
            "justify_items": null,
            "left": null,
            "margin": null,
            "max_height": null,
            "max_width": null,
            "min_height": null,
            "min_width": null,
            "object_fit": null,
            "object_position": null,
            "order": null,
            "overflow": null,
            "overflow_x": null,
            "overflow_y": null,
            "padding": null,
            "right": null,
            "top": null,
            "visibility": null,
            "width": null
          }
        },
        "c4d3bafaa4434b1697ed31cbfcc9bd68": {
          "model_module": "@jupyter-widgets/base",
          "model_name": "LayoutModel",
          "model_module_version": "1.2.0",
          "state": {
            "_model_module": "@jupyter-widgets/base",
            "_model_module_version": "1.2.0",
            "_model_name": "LayoutModel",
            "_view_count": null,
            "_view_module": "@jupyter-widgets/base",
            "_view_module_version": "1.2.0",
            "_view_name": "LayoutView",
            "align_content": null,
            "align_items": null,
            "align_self": null,
            "border": null,
            "bottom": null,
            "display": null,
            "flex": null,
            "flex_flow": null,
            "grid_area": null,
            "grid_auto_columns": null,
            "grid_auto_flow": null,
            "grid_auto_rows": null,
            "grid_column": null,
            "grid_gap": null,
            "grid_row": null,
            "grid_template_areas": null,
            "grid_template_columns": null,
            "grid_template_rows": null,
            "height": null,
            "justify_content": null,
            "justify_items": null,
            "left": null,
            "margin": null,
            "max_height": null,
            "max_width": null,
            "min_height": null,
            "min_width": null,
            "object_fit": null,
            "object_position": null,
            "order": null,
            "overflow": null,
            "overflow_x": null,
            "overflow_y": null,
            "padding": null,
            "right": null,
            "top": null,
            "visibility": null,
            "width": null
          }
        },
        "b2d930ebe6b44984ab934350b8a1776a": {
          "model_module": "@jupyter-widgets/controls",
          "model_name": "DescriptionStyleModel",
          "model_module_version": "1.5.0",
          "state": {
            "_model_module": "@jupyter-widgets/controls",
            "_model_module_version": "1.5.0",
            "_model_name": "DescriptionStyleModel",
            "_view_count": null,
            "_view_module": "@jupyter-widgets/base",
            "_view_module_version": "1.2.0",
            "_view_name": "StyleView",
            "description_width": ""
          }
        },
        "93e62a1fbda5437cb8e32aa9396ba37d": {
          "model_module": "@jupyter-widgets/base",
          "model_name": "LayoutModel",
          "model_module_version": "1.2.0",
          "state": {
            "_model_module": "@jupyter-widgets/base",
            "_model_module_version": "1.2.0",
            "_model_name": "LayoutModel",
            "_view_count": null,
            "_view_module": "@jupyter-widgets/base",
            "_view_module_version": "1.2.0",
            "_view_name": "LayoutView",
            "align_content": null,
            "align_items": null,
            "align_self": null,
            "border": null,
            "bottom": null,
            "display": null,
            "flex": null,
            "flex_flow": null,
            "grid_area": null,
            "grid_auto_columns": null,
            "grid_auto_flow": null,
            "grid_auto_rows": null,
            "grid_column": null,
            "grid_gap": null,
            "grid_row": null,
            "grid_template_areas": null,
            "grid_template_columns": null,
            "grid_template_rows": null,
            "height": null,
            "justify_content": null,
            "justify_items": null,
            "left": null,
            "margin": null,
            "max_height": null,
            "max_width": null,
            "min_height": null,
            "min_width": null,
            "object_fit": null,
            "object_position": null,
            "order": null,
            "overflow": null,
            "overflow_x": null,
            "overflow_y": null,
            "padding": null,
            "right": null,
            "top": null,
            "visibility": null,
            "width": null
          }
        },
        "9edb5414a4844914a1f393e1aa5ff5a2": {
          "model_module": "@jupyter-widgets/controls",
          "model_name": "ProgressStyleModel",
          "model_module_version": "1.5.0",
          "state": {
            "_model_module": "@jupyter-widgets/controls",
            "_model_module_version": "1.5.0",
            "_model_name": "ProgressStyleModel",
            "_view_count": null,
            "_view_module": "@jupyter-widgets/base",
            "_view_module_version": "1.2.0",
            "_view_name": "StyleView",
            "bar_color": null,
            "description_width": ""
          }
        }
      }
    }
  },
  "cells": [
    {
      "cell_type": "markdown",
      "metadata": {
        "id": "view-in-github",
        "colab_type": "text"
      },
      "source": [
        "<a href=\"https://colab.research.google.com/github/Shubodh/learn_mol/blob/master/graphVAE_shub.ipynb\" target=\"_parent\"><img src=\"https://colab.research.google.com/assets/colab-badge.svg\" alt=\"Open In Colab\"/></a>"
      ]
    },
    {
      "cell_type": "code",
      "source": [
        "!pip install wandb\n",
        "!wandb login"
      ],
      "metadata": {
        "id": "KeI5JY4Skv_T"
      },
      "execution_count": null,
      "outputs": []
    },
    {
      "cell_type": "code",
      "source": [
        "!pip install git+https://github.com/zotko/xyz2graph.git plotly networkx torch_geometric rdkit"
      ],
      "metadata": {
        "id": "MWYpN4w3KXMM"
      },
      "execution_count": null,
      "outputs": []
    },
    {
      "cell_type": "code",
      "source": [
        "import torch\n",
        "print(torch.__version__)\n",
        "!pip install torch-scatter torch-sparse -f https://data.pyg.org/whl/torch-{torch.__version__}.html"
      ],
      "metadata": {
        "id": "oOXp7oM4Rwnp"
      },
      "execution_count": null,
      "outputs": []
    },
    {
      "cell_type": "code",
      "execution_count": null,
      "metadata": {
        "id": "aE1vB0NFKM3x"
      },
      "outputs": [],
      "source": [
        "from xyz2graph import MolGraph, to_networkx_graph, to_plotly_figure\n",
        "from plotly.offline import init_notebook_mode, iplot\n",
        "import networkx as nx\n",
        "import numpy as np\n",
        "import torch\n",
        "from torch_geometric.utils.convert import from_networkx\n",
        "from torch_geometric.utils import negative_sampling\n",
        "import re\n",
        "from itertools import combinations\n",
        "from math import sqrt\n",
        "from torch_geometric.nn import DimeNet\n",
        "from rdkit import Chem\n",
        "import random\n",
        "import wandb\n",
        "from torch_geometric.data import Dataset, Data\n",
        "from torch_geometric.loader import DataLoader\n",
        "from torch import Tensor\n",
        "import torch_geometric.transforms as T\n",
        "from torch_geometric.nn import GCNConv, GATConv\n",
        "from torch_geometric.utils import train_test_split_edges\n"
      ]
    },
    {
      "cell_type": "code",
      "source": [
        "device = torch.device('cuda' if torch.cuda.is_available() else 'cpu')"
      ],
      "metadata": {
        "id": "11npc5t8Th6d"
      },
      "execution_count": null,
      "outputs": []
    },
    {
      "cell_type": "code",
      "source": [
        "atomic_radii = dict(Ac=1.88, Ag=1.59, Al=1.35, Am=1.51, As=1.21, Au=1.50, B=0.83, Ba=1.34, Be=0.35, Bi=1.54, Br=1.21,\n",
        "                    C=0.68, Ca=0.99, Cd=1.69, Ce=1.83, Cl=0.99, Co=1.33, Cr=1.35, Cs=1.67, Cu=1.52, D=0.23, Dy=1.75,\n",
        "                    Er=1.73, Eu=1.99, F=0.64, Fe=1.34, Ga=1.22, Gd=1.79, Ge=1.17, H=0.23, Hf=1.57, Hg=1.70, Ho=1.74,\n",
        "                    I=1.40, In=1.63, Ir=1.32, K=1.33, La=1.87, Li=0.68, Lu=1.72, Mg=1.10, Mn=1.35, Mo=1.47, N=0.68,\n",
        "                    Na=0.97, Nb=1.48, Nd=1.81, Ni=1.50, Np=1.55, O=0.68, Os=1.37, P=1.05, Pa=1.61, Pb=1.54, Pd=1.50,\n",
        "                    Pm=1.80, Po=1.68, Pr=1.82, Pt=1.50, Pu=1.53, Ra=1.90, Rb=1.47, Re=1.35, Rh=1.45, Ru=1.40, S=1.02,\n",
        "                    Sb=1.46, Sc=1.44, Se=1.22, Si=1.20, Sm=1.80, Sn=1.46, Sr=1.12, Ta=1.43, Tb=1.76, Tc=1.35, Te=1.47,\n",
        "                    Th=1.79, Ti=1.47, Tl=1.55, Tm=1.72, U=1.58, V=1.33, W=1.37, Y=1.78, Yb=1.94, Zn=1.45, Zr=1.56)\n",
        "\n",
        "\n",
        "class MolGraph_mod:\n",
        "    \"\"\"Represents a molecular graph.\"\"\"\n",
        "    __slots__ = ['elements', 'x', 'y', 'z', 'adj_list',\n",
        "                 'atomic_radii', 'bond_lengths', 'bond_orders']\n",
        "\n",
        "    def __init__(self):\n",
        "        self.elements = []\n",
        "        self.x = []\n",
        "        self.y = []\n",
        "        self.z = []\n",
        "        self.adj_list = {}\n",
        "        self.atomic_radii = []\n",
        "        self.bond_lengths = {}\n",
        "        self.bond_orders = None\n",
        "\n",
        "    def read_xyz(self,molxyz,bo=None):\n",
        "        \"\"\"Reads an XYZ file, searches for elements and their cartesian coordinates\n",
        "        and adds them to corresponding arrays.\"\"\"\n",
        "        pattern = re.compile(r'([A-Za-z]{1,3})\\s*(-?\\d+(?:\\.\\d+)?)\\s*(-?\\d+(?:\\.\\d+)?)\\s*(-?\\d+(?:\\.\\d+)?)')\n",
        "        for element, x, y, z in pattern.findall(str(molxyz)):\n",
        "            self.elements.append(element)\n",
        "            self.x.append(float(x))\n",
        "            self.y.append(float(y))\n",
        "            self.z.append(float(z))\n",
        "        self.atomic_radii = [atomic_radii[element] for element in self.elements]\n",
        "        if bo is not None:  \n",
        "            self.bond_orders = bo\n",
        "        self._generate_adjacency_list()\n",
        "\n",
        "    def _generate_adjacency_list(self):\n",
        "        \"\"\"Generates an adjacency list from atomic cartesian coordinates.\"\"\"\n",
        "        node_ids = range(len(self.elements))\n",
        "        for i, j in combinations(node_ids, 2):\n",
        "            x_i, y_i, z_i = self.__getitem__(i)[1]\n",
        "            x_j, y_j, z_j = self.__getitem__(j)[1]\n",
        "            distance = sqrt((x_i - x_j) ** 2 + (y_i - y_j) ** 2 + (z_i - z_j) ** 2)\n",
        "            if self.bond_orders is None:\n",
        "                if 0.1 < distance < (self.atomic_radii[i] + self.atomic_radii[j]) * 1.3:\n",
        "                    dist_limit = (self.atomic_radii[i] + self.atomic_radii[j]) * 1.3\n",
        "                    self.adj_list.setdefault(i, set()).add(j)\n",
        "                    self.adj_list.setdefault(j, set()).add(i)\n",
        "                    self.bond_lengths[frozenset([i, j])] = round(((distance-0.1)/(dist_limit-0.1)), 5)\n",
        "            else:\n",
        "                if frozenset([i, j]) in self.bond_orders:\n",
        "                    dist_limit = (self.atomic_radii[i] + self.atomic_radii[j]) * 1.3\n",
        "                    self.bond_lengths[frozenset([i, j])] = round(((distance-0.1)/(dist_limit-0.1)), 5)\n",
        "                    self.adj_list.setdefault(i, set()).add(j)\n",
        "                    self.adj_list.setdefault(j, set()).add(i)\n",
        "                assert len(self.bond_orders) > 0, f'{len(self.bond_orders)}'\n",
        "\n",
        "    def edges(self):\n",
        "        \"\"\"Creates an iterator with all graph edges.\"\"\"\n",
        "        edges = set()\n",
        "        for node, neighbours in self.adj_list.items():\n",
        "            for neighbour in neighbours:\n",
        "                edge = frozenset([node, neighbour])\n",
        "                if edge in edges:\n",
        "                    continue\n",
        "                edges.add(edge)\n",
        "                yield node, neighbour\n",
        "    \n",
        "    def __len__(self):\n",
        "        return len(self.elements)\n",
        "\n",
        "    def __getitem__(self, position):\n",
        "        return self.elements[position], (\n",
        "            self.x[position], self.y[position], self.z[position])"
      ],
      "metadata": {
        "id": "DWOa5QX6KWxw"
      },
      "execution_count": null,
      "outputs": []
    },
    {
      "cell_type": "code",
      "source": [
        "\n",
        "data = open('/content/drive/MyDrive/generating_chelating_agents/data/tmQM_X.xyz',\"r\").read().splitlines()\n",
        "charges = open('/content/drive/MyDrive/generating_chelating_agents/data/tmQM_X.q',\"r\").read().splitlines()\n",
        "BO = open('/content/drive/MyDrive/generating_chelating_agents/data/tmQM_X.BO',\"r\").read().split('CSD_code = ')\n",
        "# print\n",
        "BO = [i.splitlines()[:-1] for i in BO[1:]]"
      ],
      "metadata": {
        "id": "BIH17VVDYLMw"
      },
      "execution_count": null,
      "outputs": []
    },
    {
      "cell_type": "code",
      "source": [
        "bond_orders = {}\n",
        "csd_codes = []\n",
        "for mol in BO:\n",
        "    res = {}\n",
        "    # if 'Fe' in mol[1]:\n",
        "    if True:\n",
        "        csd_codes.append(mol[0])\n",
        "        for k in mol[1:]:\n",
        "            k = k.split()\n",
        "            p_idx = int(k[0])-1\n",
        "            p_atom = k[1]\n",
        "            i = 3\n",
        "            while i < len(k)-1:\n",
        "                c_atom, c_idx, bo = k[i], int(k[i+1])-1, float(k[i+2])\n",
        "                # print(f'{c_atom}, {c_idx}, {bo}')\n",
        "                res[frozenset([c_idx, p_idx])] = bo\n",
        "                i += 3\n",
        "        bond_orders[csd_codes[-1]] = res"
      ],
      "metadata": {
        "id": "k9jBIsEkDuxf"
      },
      "execution_count": null,
      "outputs": []
    },
    {
      "cell_type": "code",
      "source": [
        "len(bond_orders)"
      ],
      "metadata": {
        "colab": {
          "base_uri": "https://localhost:8080/"
        },
        "id": "f3Hot7Mk3Oq9",
        "outputId": "ac64d47a-4626-42e4-fb32-c865623af5c1"
      },
      "execution_count": null,
      "outputs": [
        {
          "output_type": "execute_result",
          "data": {
            "text/plain": [
              "86665"
            ]
          },
          "metadata": {},
          "execution_count": 29
        }
      ]
    },
    {
      "cell_type": "code",
      "source": [
        "\n",
        "PT = Chem.GetPeriodicTable()\n",
        "init_notebook_mode(connected=True)\n",
        "\n",
        "def to_networkx_graph(graph: MolGraph_mod) -> nx.Graph:\n",
        "    \"\"\"Creates a NetworkX graph.\n",
        "    Atomic elements and coordinates are added to the graph as node attributes 'element' and 'xyz\" respectively.\n",
        "    Bond lengths are added to the graph as edge attribute 'length''\"\"\"\n",
        "    G = nx.Graph(graph.adj_list)\n",
        "    node_attrs = {num: {'x': [PT.GetAtomicNumber(element), xyz[0], xyz[1], xyz[2]], 'xyz': xyz} for num, (element, xyz) in enumerate(graph)}\n",
        "    nx.set_node_attributes(G, node_attrs)\n",
        "    edge_attrs = {edge: {'x': [graph.bond_orders[edge], length]} for edge, length in graph.bond_lengths.items()}\n",
        "    nx.set_edge_attributes(G, edge_attrs)\n",
        "    return G\n",
        "\n",
        "\n",
        "#this block of code extracts structures containing Fe and convert them into networkx readable graph. \n",
        "#\"graphs\" contains all the individual molecular graphs containing Fe. Total 4446 complexes are  found. \n",
        "#nodes contains information about the type of atoms/nodes present in each molecular graphs \n",
        "graphs = []\n",
        "nodes = []\n",
        "data_list = []\n",
        "csd_codes_mol = []\n",
        "for ndx, line in enumerate(data):\n",
        "    #print(line)\n",
        "    # if ndx < 10:\n",
        "    if ndx < len(data)-1:\n",
        "        if line == '':\n",
        "            total_atoms_in_mol = int(data[ndx+1])\n",
        "            #print(total_atoms_in_mol,ndx+1+total_atoms_in_mol)\n",
        "            csd_code = data[ndx+2].split()[2]\n",
        "            # print(csd_code)\n",
        "            mol_xyz = data[ndx+1:ndx+1+total_atoms_in_mol]\n",
        "            #finds complexes containing Fe (Iron)\n",
        "            if csd_code in csd_codes and total_atoms_in_mol < 30:\n",
        "            # if 'Fe' in np.array(mol_xyz)[1]:\n",
        "                mol = MolGraph_mod()\n",
        "                # Read the data from the xyz coordinate block\n",
        "                mol.read_xyz(mol_xyz, bond_orders[csd_code])\n",
        "                elements = set(mol.elements)\n",
        "                nodes.append(mol.elements)\n",
        "                G = to_networkx_graph(mol)\n",
        "                # if 0 not in G: continue\n",
        "                # bfs = nx.bfs_tree(G, source=0)\n",
        "                # p = from_networkx(bfs)\n",
        "                p = from_networkx(G)\n",
        "                # recreating node and edge attr lists in bfs node ordering\n",
        "                G = G.to_directed()\n",
        "                graphs.append(G)\n",
        "                p.x = Tensor([G.nodes[i]['x'] for i in G.nodes])\n",
        "                p.x = p.x.to(device)\n",
        "                p.edge_attr = Tensor([G.edges[i]['x'] for i in G.edges])\n",
        "                p.edge_attr = p.edge_attr.to(device)\n",
        "                p.edge_index = p.edge_index.to(device)\n",
        "                data_list.append(p)"
      ],
      "metadata": {
        "colab": {
          "base_uri": "https://localhost:8080/",
          "height": 17
        },
        "id": "vWViriKnPsj-",
        "outputId": "afd7e94d-3ddb-4ed3-ed72-8d56c7e891ec"
      },
      "execution_count": null,
      "outputs": [
        {
          "output_type": "display_data",
          "data": {
            "text/html": [
              "        <script type=\"text/javascript\">\n",
              "        window.PlotlyConfig = {MathJaxConfig: 'local'};\n",
              "        if (window.MathJax) {MathJax.Hub.Config({SVG: {font: \"STIX-Web\"}});}\n",
              "        if (typeof require !== 'undefined') {\n",
              "        require.undef(\"plotly\");\n",
              "        requirejs.config({\n",
              "            paths: {\n",
              "                'plotly': ['https://cdn.plot.ly/plotly-2.8.3.min']\n",
              "            }\n",
              "        });\n",
              "        require(['plotly'], function(Plotly) {\n",
              "            window._Plotly = Plotly;\n",
              "        });\n",
              "        }\n",
              "        </script>\n",
              "        "
            ]
          },
          "metadata": {}
        }
      ]
    },
    {
      "cell_type": "code",
      "source": [
        "print(len(data_list))\n",
        "print(len(bond_orders))"
      ],
      "metadata": {
        "colab": {
          "base_uri": "https://localhost:8080/"
        },
        "id": "EFf79KRDFVVv",
        "outputId": "8b858c5a-93db-47d6-ce53-f65406cf0f99"
      },
      "execution_count": null,
      "outputs": [
        {
          "output_type": "stream",
          "name": "stdout",
          "text": [
            "4302\n",
            "86665\n"
          ]
        }
      ]
    },
    {
      "cell_type": "code",
      "source": [
        "from torch_geometric.nn import VGAE\n",
        "\n",
        "class VariationalGCNEncoder(torch.nn.Module):\n",
        "    def __init__(self, in_channels, out_channels, edge_dim=1, heads=1,num_layers=1):\n",
        "        super(VariationalGCNEncoder, self).__init__()\n",
        "        self.conv1 = []\n",
        "        self.conv1.append(GATConv(in_channels, 2 * out_channels, edge_dim=edge_dim, heads=heads))\n",
        "        if num_layers > 1:\n",
        "            self.conv1.append(GATConv(2 * out_channels, 2 * out_channels, edge_dim=edge_dim, heads=heads))\n",
        "        self.conv1 = torch.nn.ModuleList(self.conv1)\n",
        "        \n",
        "        self.conv_mu = GATConv(2 * out_channels, out_channels, edge_dim=edge_dim, heads=heads)\n",
        "        self.conv_logstd = GATConv(2 * out_channels, out_channels, edge_dim=edge_dim, heads=heads)\n",
        "\n",
        "    def forward(self, x, edge_index, edge_weights):\n",
        "        for conv in self.conv1:\n",
        "            x = conv(x, edge_index, edge_attr=edge_weights).relu()\n",
        "        return self.conv_mu(x, edge_index, edge_attr=edge_weights), self.conv_logstd(x, edge_index)\n",
        "\n",
        "# class InnerProductDecoder(torch.nn.Module):\n",
        "\n",
        "#     def __init__(self, )\n",
        "\n",
        "#     def forward(self, z, edge_index, sigmoid=True):\n",
        "#         r\"\"\"Decodes the latent variables :obj:`z` into edge probabilities for\n",
        "#         the given node-pairs :obj:`edge_index`.\n",
        "\n",
        "#         Args:\n",
        "#             z (Tensor): The latent space :math:`\\mathbf{Z}`.\n",
        "#             sigmoid (bool, optional): If set to :obj:`False`, does not apply\n",
        "#                 the logistic sigmoid function to the output.\n",
        "#                 (default: :obj:`True`)\n",
        "#         \"\"\"\n",
        "#         value = (z[edge_index[0]] * z[edge_index[1]]).sum(dim=1)\n",
        "#         return torch.sigmoid(value) if sigmoid else value"
      ],
      "metadata": {
        "id": "dUdUb_mwXUNU"
      },
      "execution_count": null,
      "outputs": []
    },
    {
      "cell_type": "code",
      "source": [
        "def train(epoch, loader, beta=0.2, train=True):\n",
        "    model.train()\n",
        "    running_loss_kl = 0\n",
        "    running_loss = 0\n",
        "    n = 0\n",
        "    if train:\n",
        "        for data in loader:\n",
        "            n += 1\n",
        "            optimizer.zero_grad()\n",
        "            z = model.encode(data.x, data.edge_index, data.edge_attr)\n",
        "            loss = model.recon_loss(z, data.edge_index)\n",
        "            #if args.variational:\n",
        "            kl = model.kl_loss()\n",
        "            running_loss += loss.item()\n",
        "            running_loss_kl += kl.item()\n",
        "            loss = loss + beta * kl\n",
        "            loss.backward()\n",
        "            optimizer.step()\n",
        "        wandb.log({\"epoch\": epoch, 'loss_kl/train': running_loss_kl/n, 'loss_recon/train': running_loss/n})\n",
        "\n",
        "    return float((running_loss+running_loss_kl)/n)\n",
        "\n",
        "def test(epoch, loader):\n",
        "    model.eval()\n",
        "    running_loss = 0\n",
        "    running_loss_kl = 0\n",
        "    running_auc = 0\n",
        "    running_ap = 0\n",
        "    n = 0\n",
        "    for data in loader: \n",
        "        n += 1\n",
        "        with torch.no_grad():\n",
        "            z = model.encode(data.x, data.edge_index, data.edge_attr)\n",
        "            loss = model.recon_loss(z, data.edge_index)\n",
        "            kl = model.kl_loss()\n",
        "            running_loss += loss.item()\n",
        "            running_loss_kl += kl.item()\n",
        "            neg_edges = negative_sampling(data.edge_index)\n",
        "            auc, ap = model.test(z, data.edge_index, neg_edges)\n",
        "            running_auc += auc.item()\n",
        "            running_ap += ap.item()\n",
        "    wandb.log({\"epoch\": epoch, 'loss_kl/val': running_loss_kl/n, 'loss_recon/val': running_loss/n, 'auc/val': running_auc/n, 'ap/val': running_ap/n})\n",
        "    return float((running_loss+running_loss_kl)/n)"
      ],
      "metadata": {
        "id": "wyEiwLAVus5x"
      },
      "execution_count": null,
      "outputs": []
    },
    {
      "cell_type": "code",
      "source": [
        "# parameters\n",
        "N = len(data_list)\n",
        "split = [0.8, 0.2]\n",
        "N_train = int(N * split[0])\n",
        "random.seed(42)\n",
        "random.shuffle(data_list)\n",
        "batch_size = 32\n",
        "lr = 0.01\n",
        "num_layers = 3\n",
        "out_channels = 2\n",
        "num_features = 4\n",
        "epochs = 300\n",
        "edge_dim = 2\n",
        "heads = 1\n",
        "train_data = data_list[:N_train]\n",
        "test_data = data_list[N_train:]\n",
        "train_loader = DataLoader(train_data, batch_size=batch_size)\n",
        "test_loader = DataLoader(test_data, batch_size=batch_size)\n",
        "beta=0.3\n",
        "\n",
        "# model\n",
        "model = VGAE(VariationalGCNEncoder(num_features, out_channels, num_layers=num_layers, edge_dim=edge_dim, heads=heads))\n",
        "\n",
        "# move to GPU (if available)\n",
        "# device = 'cpu'\n",
        "model = model.to(device)\n",
        "\n",
        "# inizialize the optimizer\n",
        "optimizer = torch.optim.Adam(model.parameters(), lr=lr)"
      ],
      "metadata": {
        "id": "AlUpieIcdH9Q"
      },
      "execution_count": null,
      "outputs": []
    },
    {
      "cell_type": "code",
      "source": [
        "wandb.init(project=\"graphVAE\", entity=\"shivanshseth\", config={\n",
        "    \"beta\": beta,\n",
        "    \"num_layers\": num_layers,\n",
        "    \"latent_channels\": out_channels,\n",
        "    \"learning_rate\": lr,\n",
        "    \"epochs\": epochs,\n",
        "    \"batch_size\": batch_size\n",
        "})\n",
        "metrics = [\n",
        "            \"loss_kl/train\",\n",
        "            \"loss_kl/val\",\n",
        "            \"loss/test\",\n",
        "            \"loss_kl/test\",\n",
        "            \"loss/val\",\n",
        "            \"loss_kl/val\",\n",
        "            \"auc/val\",\n",
        "            \"ap/val\",\n",
        "            ]\n",
        "for i in metrics:\n",
        "    wandb.define_metric(name=i, step_metric='epoch')\n",
        "\n",
        "\n",
        "for epoch in range(1, epochs + 1):\n",
        "    loss = train(epoch, train_loader, beta)\n",
        "    test_loss = test(epoch, test_loader)"
      ],
      "metadata": {
        "colab": {
          "base_uri": "https://localhost:8080/",
          "height": 484,
          "referenced_widgets": [
            "8afdef885a9a4867b8555134de2024ff",
            "f4ae5f645b0440e0a6157fee2991d2ed",
            "a865e8f17d6446008549f21c32b7927e",
            "3cdaa73f7b39480d999ee373d376ae0a",
            "c4d3bafaa4434b1697ed31cbfcc9bd68",
            "b2d930ebe6b44984ab934350b8a1776a",
            "93e62a1fbda5437cb8e32aa9396ba37d",
            "9edb5414a4844914a1f393e1aa5ff5a2"
          ]
        },
        "id": "EgvHvDGOdaXQ",
        "outputId": "79925a16-e0a6-46f5-8fe2-be43e1e23f74"
      },
      "execution_count": null,
      "outputs": [
        {
          "output_type": "display_data",
          "data": {
            "text/plain": [
              "<IPython.core.display.HTML object>"
            ],
            "text/html": [
              "Finishing last run (ID:1qgea40o) before initializing another..."
            ]
          },
          "metadata": {}
        },
        {
          "output_type": "display_data",
          "data": {
            "text/plain": [
              "<IPython.core.display.HTML object>"
            ],
            "text/html": [
              "Waiting for W&B process to finish... <strong style=\"color:green\">(success).</strong>"
            ]
          },
          "metadata": {}
        },
        {
          "output_type": "display_data",
          "data": {
            "text/plain": [
              "VBox(children=(Label(value='0.000 MB of 0.009 MB uploaded (0.000 MB deduped)\\r'), FloatProgress(value=0.044827…"
            ],
            "application/vnd.jupyter.widget-view+json": {
              "version_major": 2,
              "version_minor": 0,
              "model_id": "8afdef885a9a4867b8555134de2024ff"
            }
          },
          "metadata": {}
        },
        {
          "output_type": "display_data",
          "data": {
            "text/plain": [
              "<IPython.core.display.HTML object>"
            ],
            "text/html": [
              "<style>\n",
              "    table.wandb td:nth-child(1) { padding: 0 10px; text-align: left ; width: auto;} td:nth-child(2) {text-align: left ; width: 100%}\n",
              "    .wandb-row { display: flex; flex-direction: row; flex-wrap: wrap; justify-content: flex-start; width: 100% }\n",
              "    .wandb-col { display: flex; flex-direction: column; flex-basis: 100%; flex: 1; padding: 10px; }\n",
              "    </style>\n",
              "<div class=\"wandb-row\"><div class=\"wandb-col\"><h3>Run history:</h3><br/><table class=\"wandb\"><tr><td>ap/val</td><td>█▂▁▁▁▁▁▁▁▁▁▁▁▁▁▁▁▁▁▁▁▁▁▁▁▁▁▁▁▁▁▁▁▁▁▁▁▁▁▁</td></tr><tr><td>auc/val</td><td>█▁▃▃▃▃▃▃▃▃▃▃▃▃▃▃▃▃▃▃▃▃▃▃▃▃▃▃▃▃▃▃▃▃▃▃▃▃▃▃</td></tr><tr><td>epoch</td><td>▁▁▁▂▂▂▂▂▂▃▃▃▃▃▃▄▄▄▄▄▅▅▅▅▅▅▆▆▆▆▆▇▇▇▇▇▇███</td></tr><tr><td>loss_kl/train</td><td>█▁▁▁▁▁▁▁▁▁▁▁▁▁▁▁▁▁▁▁▁▁▁▁▁▁▁▁▁▁▁▁▁▁▁▁▁▁▁▁</td></tr><tr><td>loss_kl/val</td><td>▇▆▇▃▂▆▅▅▃▃▄▆█▂▂▃█▂▇▇▁▆▄▃▄▇▃▅▃▅▆▇▇▄▄▄▇▁▅▅</td></tr><tr><td>loss_recon/train</td><td>█▁▁▁▁▁▁▁▁▂▁▂▁▁▂▁▁▁▁▂▁▁▁▂▂▁▁▁▂▁▁▂▁▁▁▂▁▁▁▂</td></tr><tr><td>loss_recon/val</td><td>▁▇██████████████████████████████████████</td></tr></table><br/></div><div class=\"wandb-col\"><h3>Run summary:</h3><br/><table class=\"wandb\"><tr><td>ap/val</td><td>0.50049</td></tr><tr><td>auc/val</td><td>0.49979</td></tr><tr><td>epoch</td><td>111</td></tr><tr><td>loss_kl/train</td><td>0.20341</td></tr><tr><td>loss_kl/val</td><td>0.20113</td></tr><tr><td>loss_recon/train</td><td>1.49679</td></tr><tr><td>loss_recon/val</td><td>1.38629</td></tr></table><br/></div></div>"
            ]
          },
          "metadata": {}
        },
        {
          "output_type": "display_data",
          "data": {
            "text/plain": [
              "<IPython.core.display.HTML object>"
            ],
            "text/html": [
              "Synced <strong style=\"color:#cdcd00\">peachy-hill-22</strong>: <a href=\"https://wandb.ai/shivanshseth/graphVAE/runs/1qgea40o\" target=\"_blank\">https://wandb.ai/shivanshseth/graphVAE/runs/1qgea40o</a><br/>Synced 4 W&B file(s), 0 media file(s), 0 artifact file(s) and 0 other file(s)"
            ]
          },
          "metadata": {}
        },
        {
          "output_type": "display_data",
          "data": {
            "text/plain": [
              "<IPython.core.display.HTML object>"
            ],
            "text/html": [
              "Find logs at: <code>./wandb/run-20221016_201856-1qgea40o/logs</code>"
            ]
          },
          "metadata": {}
        },
        {
          "output_type": "display_data",
          "data": {
            "text/plain": [
              "<IPython.core.display.HTML object>"
            ],
            "text/html": [
              "Successfully finished last run (ID:1qgea40o). Initializing new run:<br/>"
            ]
          },
          "metadata": {}
        },
        {
          "output_type": "display_data",
          "data": {
            "text/plain": [
              "<IPython.core.display.HTML object>"
            ],
            "text/html": [
              "Tracking run with wandb version 0.13.4"
            ]
          },
          "metadata": {}
        },
        {
          "output_type": "display_data",
          "data": {
            "text/plain": [
              "<IPython.core.display.HTML object>"
            ],
            "text/html": [
              "Run data is saved locally in <code>/content/wandb/run-20221016_202418-2bix3cia</code>"
            ]
          },
          "metadata": {}
        },
        {
          "output_type": "display_data",
          "data": {
            "text/plain": [
              "<IPython.core.display.HTML object>"
            ],
            "text/html": [
              "Syncing run <strong><a href=\"https://wandb.ai/shivanshseth/graphVAE/runs/2bix3cia\" target=\"_blank\">dulcet-cosmos-23</a></strong> to <a href=\"https://wandb.ai/shivanshseth/graphVAE\" target=\"_blank\">Weights & Biases</a> (<a href=\"https://wandb.me/run\" target=\"_blank\">docs</a>)<br/>"
            ]
          },
          "metadata": {}
        }
      ]
    }
  ]
}